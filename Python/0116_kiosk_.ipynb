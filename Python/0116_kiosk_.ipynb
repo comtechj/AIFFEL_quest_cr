{
  "nbformat": 4,
  "nbformat_minor": 0,
  "metadata": {
    "colab": {
      "provenance": [],
      "authorship_tag": "ABX9TyOlqSC52aQdLU+GC/57Ka1b",
      "include_colab_link": true
    },
    "kernelspec": {
      "name": "python3",
      "display_name": "Python 3"
    },
    "language_info": {
      "name": "python"
    }
  },
  "cells": [
    {
      "cell_type": "markdown",
      "metadata": {
        "id": "view-in-github",
        "colab_type": "text"
      },
      "source": [
        "<a href=\"https://colab.research.google.com/github/comtechj/AIFFEL_quest_cr/blob/main/Python/0116_kiosk_.ipynb\" target=\"_parent\"><img src=\"https://colab.research.google.com/assets/colab-badge.svg\" alt=\"Open In Colab\"/></a>"
      ]
    },
    {
      "cell_type": "code",
      "source": [
        "# 전체 메뉴와 가격\n",
        "menu = ['americano', 'latte', 'mocha', 'yuza_tea', 'green_tea', 'choco_latte']\n",
        "price = [2000, 3000, 3000, 2500, 2500, 3000]"
      ],
      "metadata": {
        "id": "ZcK0XO9DLYSv"
      },
      "execution_count": 3,
      "outputs": []
    },
    {
      "cell_type": "code",
      "execution_count": 8,
      "metadata": {
        "id": "OcXbLwi6K7qs"
      },
      "outputs": [],
      "source": [
        "# 문제 3-3. 클래스 업데이트\n",
        "# 앞에서 구현했던 메서드들을 Kiosk 클래스에 추가합니다. 직접 코드를 작성해 보세요!\n",
        "\n",
        "class Kiosk:\n",
        "    def __init__(self):\n",
        "        self.menu = menu\n",
        "        self.price = price\n",
        "\n",
        "    # 메뉴 출력 메서드\n",
        "    def menu_print(self):\n",
        "        for i in range(len(self.menu)):\n",
        "            print(i+1, ')', self.menu[i], ' : ', self.price[i], '원')\n",
        "\n",
        "        print()\n",
        "\n",
        "    # 주문 메서드\n",
        "    def menu_select(self):\n",
        "        self.order_menu = []\n",
        "        self.order_price = []\n",
        "\n",
        "        # 음료 주문\n",
        "        n = 0\n",
        "        while n < 1 or len(menu) < n:\n",
        "            n = int(input(\"음료 번호를 입력하세요 : \"))\n",
        "\n",
        "            if 1 <= n & n <= len(menu):\n",
        "                self.order_price.append(self.price[n-1])\n",
        "                self.price_sum = self.price[n-1]\n",
        "            else:\n",
        "                print(\"없는 메뉴입니다. 다시 주문해 주세요.\")\n",
        "\n",
        "        # 음료 온도 선택\n",
        "        t = 0\n",
        "        while t != 1 and t != 2:\n",
        "            t = int(input(\"HOT 음료는 1을, ICE 음료는 2를 입력하세요 : \"))\n",
        "\n",
        "            if t == 1:\n",
        "                self.temp = 'HOT'\n",
        "            elif t == 2:\n",
        "                self.temp = 'ICE'\n",
        "            else:\n",
        "                print(\"1과 2 중 하나를 입력하세요.\\n\")\n",
        "\n",
        "        self.order_menu.append(self.temp + ' ' + self.menu[n-1])\n",
        "        print(self.temp, self.menu[n-1], ' : ', self.price[n-1], '원')\n",
        "\n",
        "        print()\n",
        "\n",
        "        # 추가 음료 주문\n",
        "        while n != 0:\n",
        "            n = int(input(\"추가 주문은 음료 번호를, 지불은 0을 누르세요 : \"))\n",
        "\n",
        "            if n > 0 and n < len(self.menu) + 1:\n",
        "                t = int(input(\"HOT 음료는 1을, ICE 음료는 2를 입력하세요 : \"))\n",
        "                if t == 1:\n",
        "                    self.temp = 'HOT'\n",
        "                elif t == 2:\n",
        "                    self.temp = 'ICE'\n",
        "                else:\n",
        "                    print(\"1과 2 중 하나를 입력하세요.\\n\")\n",
        "\n",
        "                self.order_menu.append(self.temp + ' ' + self.menu[n-1])\n",
        "                self.order_price.append(self.price[n-1])\n",
        "                self.price_sum += self.price[n-1]\n",
        "\n",
        "                print('추가 주문 음료는', self.temp, self.menu[n-1], ':', self.price[n-1], '원\\n', '합계 : ', self.price_sum, '원')\n",
        "            else:\n",
        "                if n == 0:\n",
        "                    print(\"주문이 완료되었습니다.\")\n",
        "                    print(self.order_menu, self.order_price)\n",
        "                else:\n",
        "                    print(\"없는 메뉴입니다. 다시 주문해 주세요.\")\n",
        "\n",
        "            print()\n",
        "        print()\n",
        "\n",
        "    # 지불 메서드\n",
        "    def pay(self):\n",
        "        print(f\"게산을 도와 드리겠습니다. 총 금액은 {self.price_sum}원 입니다.\")\n",
        "\n",
        "        p = 0\n",
        "        while p != 1 and p != 2:\n",
        "            p = int(input(\"현금은 1을, 카드는 2를 입력하세요.\"))\n",
        "            if p == 1:\n",
        "                print(\"직원을 호출하겠습니다..\")\n",
        "            elif p == 2:\n",
        "                print(\"IC칩 방향에 맞게 카드를 꽂아주세요..\")\n",
        "            else:\n",
        "                print(\"다시 결제를 시도해 주세요..\")\n",
        "\n",
        "        print()\n",
        "\n",
        "    # 주문서 출력 메서드\n",
        "    def table(self):\n",
        "        print('*-' + '-'*30 + '-*')\n",
        "        for i in range(5):\n",
        "            print('|' + ' '*31 + '|')\n",
        "\n",
        "        for i in range(len(self.order_menu)):\n",
        "            print(self.order_menu[i], ' : ', self.order_price[i])\n",
        "\n",
        "        print('합계 금액 : ', self.price_sum)\n",
        "\n",
        "        for i in range(5):\n",
        "            print('|' + ' '*31 + '|')\n",
        "        print('*-' + '-'*30 + '-*')\n",
        "\n"
      ]
    },
    {
      "cell_type": "code",
      "source": [
        "a = Kiosk()  # 객체 생성\n",
        "a.menu_print()  # 메뉴 출력\n",
        "a.menu_select()  # 주문\n",
        "a.pay()  # 지불\n",
        "a.table()  # 주문표 출력"
      ],
      "metadata": {
        "colab": {
          "base_uri": "https://localhost:8080/"
        },
        "id": "w2RZtJ74LHDc",
        "outputId": "7023377a-7b2c-424c-80b9-bc705453248a"
      },
      "execution_count": 9,
      "outputs": [
        {
          "output_type": "stream",
          "name": "stdout",
          "text": [
            "1 ) americano  :  2000 원\n",
            "2 ) latte  :  3000 원\n",
            "3 ) mocha  :  3000 원\n",
            "4 ) yuza_tea  :  2500 원\n",
            "5 ) green_tea  :  2500 원\n",
            "6 ) choco_latte  :  3000 원\n",
            "\n",
            "음료 번호를 입력하세요 : 1\n",
            "HOT 음료는 1을, ICE 음료는 2를 입력하세요 : 2\n",
            "ICE americano  :  2000 원\n",
            "\n",
            "추가 주문은 음료 번호를, 지불은 0을 누르세요 : 2\n",
            "HOT 음료는 1을, ICE 음료는 2를 입력하세요 : 1\n",
            "추가 주문 음료는 HOT latte : 3000 원\n",
            " 합계 :  5000 원\n",
            "\n",
            "추가 주문은 음료 번호를, 지불은 0을 누르세요 : 3\n",
            "HOT 음료는 1을, ICE 음료는 2를 입력하세요 : 1\n",
            "추가 주문 음료는 HOT mocha : 3000 원\n",
            " 합계 :  8000 원\n",
            "\n",
            "추가 주문은 음료 번호를, 지불은 0을 누르세요 : 0\n",
            "주문이 완료되었습니다.\n",
            "['ICE americano', 'HOT latte', 'HOT mocha'] [2000, 3000, 3000]\n",
            "\n",
            "\n",
            "게산을 도와 드리겠습니다. 총 금액은 8000원 입니다.\n",
            "현금은 1을, 카드는 2를 입력하세요.1\n",
            "직원을 호출하겠습니다..\n",
            "\n",
            "*--------------------------------*\n",
            "|                               |\n",
            "|                               |\n",
            "|                               |\n",
            "|                               |\n",
            "|                               |\n",
            "ICE americano  :  2000\n",
            "HOT latte  :  3000\n",
            "HOT mocha  :  3000\n",
            "합계 금액 :  8000\n",
            "|                               |\n",
            "|                               |\n",
            "|                               |\n",
            "|                               |\n",
            "|                               |\n",
            "*--------------------------------*\n"
          ]
        }
      ]
    },
    {
      "cell_type": "code",
      "source": [],
      "metadata": {
        "id": "FoaWJ2UYMJo4"
      },
      "execution_count": null,
      "outputs": []
    }
  ]
}
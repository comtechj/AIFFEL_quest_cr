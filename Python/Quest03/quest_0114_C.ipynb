{
  "nbformat": 4,
  "nbformat_minor": 0,
  "metadata": {
    "colab": {
      "provenance": [],
      "authorship_tag": "ABX9TyNv2lUvyaVOLoDLJgnn/n85",
      "include_colab_link": true
    },
    "kernelspec": {
      "name": "python3",
      "display_name": "Python 3"
    },
    "language_info": {
      "name": "python"
    }
  },
  "cells": [
    {
      "cell_type": "markdown",
      "metadata": {
        "id": "view-in-github",
        "colab_type": "text"
      },
      "source": [
        "<a href=\"https://colab.research.google.com/github/comtechj/AIFFEL_quest_cr/blob/main/Python/Quest03/quest_0114_C.ipynb\" target=\"_parent\"><img src=\"https://colab.research.google.com/assets/colab-badge.svg\" alt=\"Open In Colab\"/></a>"
      ]
    },
    {
      "cell_type": "markdown",
      "source": [
        "# 1번"
      ],
      "metadata": {
        "id": "i1vp39fO1B1J"
      }
    },
    {
      "cell_type": "code",
      "execution_count": 1,
      "metadata": {
        "colab": {
          "base_uri": "https://localhost:8080/"
        },
        "id": "LE1pAi4900LQ",
        "outputId": "14712fdb-9cba-432d-ceb2-b82cbfde80a4"
      },
      "outputs": [
        {
          "output_type": "stream",
          "name": "stdout",
          "text": [
            "최솟값: 3\n",
            "최댓값: 12\n"
          ]
        }
      ],
      "source": [
        "def find_min_max(numbers):\n",
        "    # min_value와 max_value 변수를 초기화\n",
        "    # min_value는 양의 무한대(float('inf'))로 초기화하여 어떤 숫자보다도 큰 값으로 설정\n",
        "    min_value = float('inf')\n",
        "    # max_value는 음의 무한대(float('-inf'))로 초기화하여 어떤 숫자보다도 작은 값으로 설정\n",
        "    max_value = float('-inf')\n",
        "\n",
        "    def update_min_max(num):\n",
        "        # 외부함수의 변수인 min_value, max_value 참조\n",
        "        nonlocal min_value, max_value\n",
        "        # 만약 num 값이 min_value보다 작다면 min_value를 num 값으로 변경\n",
        "        if num < min_value:\n",
        "            min_value = num\n",
        "        # 만약 num 값이 max_value보다 크다면 max_value를 num 값으로 변경\n",
        "        if num > max_value:\n",
        "            max_value = num\n",
        "\n",
        "    # numbers 리스트의 모든 값을 순환하며 최댓값과 최솟값 업데이트\n",
        "    for num in numbers:\n",
        "        update_min_max(num)\n",
        "\n",
        "    # 최솟값을 반환하는 내부함수\n",
        "    def get_min():\n",
        "        return min_value\n",
        "    # 최댓값을 반환하는 내부함수\n",
        "    def get_max():\n",
        "        return max_value\n",
        "\n",
        "    # 외부함수는 내부함수(get_min()과 get_max())를 반환\n",
        "    return get_min, get_max\n",
        "\n",
        "numbers = [10, 5, 8, 12, 3, 7]\n",
        "find_min, find_max = find_min_max(numbers)\n",
        "\n",
        "print(\"최솟값:\", find_min())\n",
        "print(\"최댓값:\", find_max())"
      ]
    },
    {
      "cell_type": "code",
      "source": [
        "def counter(say):\n",
        "    count = 0\n",
        "    def cnt(*h, **hh):\n",
        "        nonlocal count\n",
        "        count += 1\n",
        "        # say()\n",
        "        # print(f\" 실행횟수: {count}\")\n",
        "        print(say.__name__, \"실행횟수:\",count)\n",
        "\n",
        "        return say(*h, **hh)\n",
        "\n",
        "    return cnt\n",
        "\n",
        "@counter\n",
        "def say_hello():\n",
        "    print(\"Hello Aiffel!\")\n",
        "\n",
        "for i in range(5):\n",
        "    say_hello()"
      ],
      "metadata": {
        "colab": {
          "base_uri": "https://localhost:8080/"
        },
        "id": "g1atfskN1Lp7",
        "outputId": "06908ff3-af34-4ec4-bc51-d008e2d3505f"
      },
      "execution_count": 2,
      "outputs": [
        {
          "output_type": "stream",
          "name": "stdout",
          "text": [
            "say_hello 실행횟수: 1\n",
            "Hello Aiffel!\n",
            "say_hello 실행횟수: 2\n",
            "Hello Aiffel!\n",
            "say_hello 실행횟수: 3\n",
            "Hello Aiffel!\n",
            "say_hello 실행횟수: 4\n",
            "Hello Aiffel!\n",
            "say_hello 실행횟수: 5\n",
            "Hello Aiffel!\n"
          ]
        }
      ]
    }
  ]
}
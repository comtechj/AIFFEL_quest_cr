{
  "nbformat": 4,
  "nbformat_minor": 0,
  "metadata": {
    "colab": {
      "provenance": [],
      "toc_visible": true,
      "authorship_tag": "ABX9TyMOqDsdtP9oLlJXDwaN5uOX",
      "include_colab_link": true
    },
    "kernelspec": {
      "name": "python3",
      "display_name": "Python 3"
    },
    "language_info": {
      "name": "python"
    }
  },
  "cells": [
    {
      "cell_type": "markdown",
      "metadata": {
        "id": "view-in-github",
        "colab_type": "text"
      },
      "source": [
        "<a href=\"https://colab.research.google.com/github/comtechj/AIFFEL_quest_cr/blob/main/Python/Quest04/quest_0115_C.ipynb\" target=\"_parent\"><img src=\"https://colab.research.google.com/assets/colab-badge.svg\" alt=\"Open In Colab\"/></a>"
      ]
    },
    {
      "cell_type": "markdown",
      "source": [
        "(+ - * /)   두개 정수\n",
        "\n",
        "정수가 아닐 때 - ValueError   잘못된 입력입니다. 정수를 입력해주세요\n",
        "\n",
        "두번째 정수 0   - ZeroDivisionError 오류메시지\n",
        "\n",
        "연산자 오류 메시지\n",
        "\n",
        "math 모듈 제곱 ** 사용\n",
        "\n",
        "계속 진행"
      ],
      "metadata": {
        "id": "s5m9PsQQjwIv"
      }
    },
    {
      "cell_type": "code",
      "execution_count": 40,
      "metadata": {
        "colab": {
          "base_uri": "https://localhost:8080/"
        },
        "id": "LE1pAi4900LQ",
        "outputId": "692f0b14-9417-4c22-f3b9-8d41fadaf50b"
      },
      "outputs": [
        {
          "output_type": "stream",
          "name": "stdout",
          "text": [
            "정수를 입력하세요 => 3 4\n",
            "연산자를 입력하세요 (+, -, *, /, **) => +\n",
            "3 + 4 = 7\n",
            "계속: y, 종료: n => y\n",
            "정수를 입력하세요 => 3 2\n",
            "연산자를 입력하세요 (+, -, *, /, **) => *\n",
            "3 * 2 = 6\n",
            "계속: y, 종료: n => n\n",
            "잘못된 입력입니다. 정수를 입력해주세요\n"
          ]
        }
      ],
      "source": [
        "import math\n",
        "\n",
        "def calc_plus(one, two):\n",
        "    return one + two\n",
        "\n",
        "def calc_minus(one, two):\n",
        "    return one - two\n",
        "\n",
        "def calc_mul(one, two):\n",
        "    return one * two\n",
        "\n",
        "def calc_div(one, two):\n",
        "    try:\n",
        "        return one / two\n",
        "    except ZeroDivisionError:\n",
        "        return \"0으로 나눌 수 없습니다\"\n",
        "\n",
        "def calc_pow(one, two):\n",
        "    return math.pow(one, two)\n",
        "\n",
        "\n",
        "while True:\n",
        "    one, two = map(int, input('정수를 입력하세요 => ').split(' '))\n",
        "    # print(one)\n",
        "    # print(two)\n",
        "    oper = input('연산자를 입력하세요 (+, -, *, /, **) => ')\n",
        "    # print(oper)\n",
        "\n",
        "    if oper == '+':\n",
        "        print(f'{one} {oper} {two} = {calc_plus(one, two)}')\n",
        "    elif oper == '-':\n",
        "        print(f'{one} {oper} {two} = {calc_minus(one, two)}')\n",
        "    elif oper == '*':\n",
        "        print(f'{one} {oper} {two} = {calc_mul(one, two)}')\n",
        "    elif oper == '/':\n",
        "        print(f'{one} {oper} {two} = {calc_div(one, two)}')\n",
        "    elif oper == '**':\n",
        "        print(f'{one} {oper} {two} = {calc_pow(one, two)}')\n",
        "\n",
        "    if input('계속: y, 종료: n => ') == 'n':\n",
        "        break\n",
        "\n",
        "try:\n",
        "    if one.isdigit() and two.isdigit():\n",
        "        one = int(one)\n",
        "        two = int(two)\n",
        "        # raise Exception('잘못된 입력입니다. 정수를 입력해주세요')\n",
        "except:\n",
        "    print('잘못된 입력입니다. 정수를 입력해주세요')\n",
        "\n",
        "\n"
      ]
    },
    {
      "cell_type": "markdown",
      "source": [
        "정성욱 - 예외처리를 더 공부해야 겠다\n",
        "\n",
        "김동의 - 전체적으로 빠진 부분에 대해서 복습해야 겠다"
      ],
      "metadata": {
        "id": "tnrMmwYu_1hC"
      }
    }
  ]
}
{
  "nbformat": 4,
  "nbformat_minor": 0,
  "metadata": {
    "colab": {
      "provenance": [],
      "authorship_tag": "ABX9TyOd4edhFTSioV8gLmSAL1Xo",
      "include_colab_link": true
    },
    "kernelspec": {
      "name": "python3",
      "display_name": "Python 3"
    },
    "language_info": {
      "name": "python"
    }
  },
  "cells": [
    {
      "cell_type": "markdown",
      "metadata": {
        "id": "view-in-github",
        "colab_type": "text"
      },
      "source": [
        "<a href=\"https://colab.research.google.com/github/comtechj/AIFFEL_quest_cr/blob/main/Python/0117_%EC%9D%80%ED%96%89%EA%B3%84%EC%A2%8C_MainQ_01.ipynb\" target=\"_parent\"><img src=\"https://colab.research.google.com/assets/colab-badge.svg\" alt=\"Open In Colab\"/></a>"
      ]
    },
    {
      "cell_type": "code",
      "execution_count": 258,
      "metadata": {
        "id": "cDumwDL23jF0"
      },
      "outputs": [],
      "source": [
        "import random as r\n",
        "\n",
        "# 이중 리스트가 왜 안되는지 모르겠습니다. ㅜㅜ 가르쳐 주세요.\n",
        "\n",
        "class Account:\n",
        "    cnt = 0               # 고객 수\n",
        "    info_name = []        # 고객 이름\n",
        "    info_num = []         # 고객 계좌번호\n",
        "    info_balance = []     # 고객 잔액\n",
        "    info_deposit_cnt = []         # 입금 횟수\n",
        "    deposit_history = []\n",
        "    withdraw_histoty = []\n",
        "\n",
        "    def __init__(self, name, balance):\n",
        "        self.name = name\n",
        "        self.balance = balance\n",
        "\n",
        "        Account.cnt += 1    # 계좌 수\n",
        "        Account.info_name.append(self.name)    # 계좌 이름\n",
        "\n",
        "        num = str(r.randint(111, 999)) + '-' + str(r.randint(11, 99)) + '-' + str(r.randint(111111, 999999))    # 계좌 번호 생성\n",
        "        Account.info_num.append(num)    # 계좌 번호\n",
        "\n",
        "        Account.info_balance.append(self.balance)    # 계좌 잔액\n",
        "        Account.info_deposit_cnt.append(0)    # 입금 횟수\n",
        "        print(f\"{Account.info_name}, {Account.info_num}, {Account.info_balance}, {Account.info_deposit_cnt}\")\n",
        "\n",
        "\n",
        "    # 생성된 계좌의 개수 출력\n",
        "    def get_account_num(self):\n",
        "        print(f'생성된 계좌의 총 개수: {Account.cnt}')\n",
        "\n",
        "\n",
        "    # 저장된 정보 출력\n",
        "    def display_info(self):\n",
        "        for i in range(Account.cnt):\n",
        "                print(f\"은행 이름: SC은행, 예금주: {Account.info_name[i]}, 계좌번호: {Account.info_num[i]}, 잔고: {format(Account.info_balance[i],',')}\")\n",
        "\n",
        "        # if Account.info_balance\n",
        "\n",
        "\n",
        "\n",
        "    # 입금 - 1원 이상 가능\n",
        "    def deposit(self, de_name, de_balance):\n",
        "        self.de_name = de_name\n",
        "        self.de_balance = de_balance\n",
        "\n",
        "        if self.de_balance >= 1:\n",
        "            for i in range(Account.cnt):\n",
        "                if Account.info_name[i] == self.de_name:        # 고객과 입금자를 비교\n",
        "                    Account.info_deposit_cnt[i] += 1        # 입금 횟수 증가\n",
        "\n",
        "                    if Account.info_deposit_cnt[i] == 5:\n",
        "                        Account.info_balance[i] += Account.info_balance[i]*0.01        # 이자 지급\n",
        "                        print(f\"{Account.info_balance[i]*0.01} 의 이자가 입금되었습니다.\")\n",
        "                        Account.info_deposit_cnt[i] = 0        # 입금 횟수 초기화\n",
        "\n",
        "                    Account.info_balance[i] += self.de_balance    # now 입금\n",
        "\n",
        "                else:\n",
        "                    # print('존재하지 않는 고객입니다.')\n",
        "                    pass\n",
        "        else:\n",
        "            print(\"1원 이상 입금해 주세요.\")\n",
        "\n",
        "\n",
        "    # 출금 - 잔액 이상 출금 X\n",
        "    def withdraw(self, wi_name, wi_balance):\n",
        "        self.wi_name = wi_name\n",
        "        self.wi_balance = wi_balance\n",
        "\n",
        "        for i in range(Account.cnt):\n",
        "            if Account.info_name[i] == self.wi_name :             # 고객과 출금자 비교\n",
        "                if Account.info_balance[i] >= self.wi_balance:    # 잔액과 비교\n",
        "                    Account.info_balance[i] -= self.wi_balance    # 출금\n",
        "                else:\n",
        "                    print(\"계좌 잔고 이상을 출금할 수 없습니다.\")\n",
        "            else:\n",
        "                # print('존재하지 않는 고객입니다.')\n",
        "                pass\n",
        "\n",
        "\n",
        "    # 입금 히스토리\n",
        "    def deposit_history(self):\n",
        "        print()\n",
        "\n",
        "\n",
        "    # 출금 히스토리\n",
        "    def withdraw_history(self):\n",
        "        print()\n",
        "\n",
        "\n"
      ]
    },
    {
      "cell_type": "code",
      "source": [
        "first_account = Account('jeong', 100)\n",
        "second_account = Account('kim', 1000)\n",
        "third_account = Account('park', 2000)\n"
      ],
      "metadata": {
        "id": "hCOcjYg6_-0M",
        "colab": {
          "base_uri": "https://localhost:8080/"
        },
        "outputId": "aa6d1282-1d66-47fd-9c76-b5e4c646adc2"
      },
      "execution_count": 259,
      "outputs": [
        {
          "output_type": "stream",
          "name": "stdout",
          "text": [
            "['jeong'], ['159-94-175102'], [100], [0]\n",
            "['jeong', 'kim'], ['159-94-175102', '871-63-757713'], [100, 1000], [0, 0]\n",
            "['jeong', 'kim', 'park'], ['159-94-175102', '871-63-757713', '857-11-766884'], [100, 1000, 2000], [0, 0, 0]\n"
          ]
        }
      ]
    },
    {
      "cell_type": "code",
      "source": [
        "first_account.get_account_num()\n",
        "first_account.display_info()\n",
        "\n",
        "for i in range(6):\n",
        "    first_account.deposit('kim', 5000)\n",
        "\n",
        "first_account.withdraw('jeong', 10)\n",
        "\n",
        "first_account.display_info()"
      ],
      "metadata": {
        "colab": {
          "base_uri": "https://localhost:8080/"
        },
        "id": "Vjh_5AaJAta4",
        "outputId": "fb172096-f681-4afc-cb21-fdd7f79e7ca0"
      },
      "execution_count": 260,
      "outputs": [
        {
          "output_type": "stream",
          "name": "stdout",
          "text": [
            "생성된 계좌의 총 개수: 3\n",
            "은행 이름: SC은행, 예금주: jeong, 계좌번호: 159-94-175102, 잔고: 100\n",
            "은행 이름: SC은행, 예금주: kim, 계좌번호: 871-63-757713, 잔고: 1,000\n",
            "은행 이름: SC은행, 예금주: park, 계좌번호: 857-11-766884, 잔고: 2,000\n",
            "212.1 의 이자가 입금되었습니다.\n",
            "은행 이름: SC은행, 예금주: jeong, 계좌번호: 159-94-175102, 잔고: 90\n",
            "은행 이름: SC은행, 예금주: kim, 계좌번호: 871-63-757713, 잔고: 31,210.0\n",
            "은행 이름: SC은행, 예금주: park, 계좌번호: 857-11-766884, 잔고: 2,000\n"
          ]
        }
      ]
    }
  ]
}